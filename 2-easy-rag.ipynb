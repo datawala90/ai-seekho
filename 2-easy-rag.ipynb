{
 "cells": [
  {
   "cell_type": "code",
   "execution_count": 6,
   "id": "555646bf-fe4c-4ad8-8021-d4cbffd20378",
   "metadata": {
    "execution": {
     "iopub.execute_input": "2025-07-05T14:23:43.314600Z",
     "iopub.status.busy": "2025-07-05T14:23:43.314318Z",
     "iopub.status.idle": "2025-07-05T14:23:45.108705Z",
     "shell.execute_reply": "2025-07-05T14:23:45.107718Z",
     "shell.execute_reply.started": "2025-07-05T14:23:43.314578Z"
    }
   },
   "outputs": [
    {
     "name": "stderr",
     "output_type": "stream",
     "text": [
      "huggingface/tokenizers: The current process just got forked, after parallelism has already been used. Disabling parallelism to avoid deadlocks...\n",
      "To disable this warning, you can either:\n",
      "\t- Avoid using `tokenizers` before the fork if possible\n",
      "\t- Explicitly set the environment variable TOKENIZERS_PARALLELISM=(true | false)\n"
     ]
    },
    {
     "name": "stdout",
     "output_type": "stream",
     "text": [
      "Generated 8 chunks:\n",
      "--- Chunk 0 ---\n",
      "How to Make Simple Pancakes:\n",
      "\n",
      "--- Chunk 1 ---\n",
      "Ingredients:\n",
      "– 1 cup all-purpose flour  \n",
      "– 2 tablespoons sugar  \n",
      "– 1 teaspoon baking powder  \n",
      "– 1 teaspoon baking soda  \n",
      "– 1 pinch of salt  \n",
      "– 1 cup buttermilk  \n",
      "– 1 egg\n",
      "\n",
      "--- Chunk 2 ---\n",
      "– 1 cup buttermilk  \n",
      "– 1 egg  \n",
      "– 2 tablespoons melted butter\n",
      "\n",
      "--- Chunk 3 ---\n",
      "Instructions:\n",
      "In a bowl, whisk together the flour, sugar, baking powder, baking soda, and salt.  \n",
      "In another bowl, beat the egg with the buttermilk and melted butter until combined.\n",
      "\n",
      "--- Chunk 4 ---\n",
      "Pour the wet ingredients into the dry ingredients and stir until just mixed—it's okay if there are a few lumps.\n",
      "\n",
      "--- Chunk 5 ---\n",
      "Cooking:\n",
      "Heat a non-stick skillet over medium heat and lightly grease with butter.\n",
      "\n",
      "--- Chunk 6 ---\n",
      "Pour ¼ cup batter per pancake; cook until bubbles form on top (about 2 minutes), then flip and cook the other side until golden brown.\n",
      "\n",
      "--- Chunk 7 ---\n",
      "Serve warm with maple syrup, fresh fruit, or your favorite toppings.\n",
      "\n"
     ]
    }
   ],
   "source": [
    "# 1) Install & imports\n",
    "!pip install --quiet sentence-transformers faiss-cpu langchain transformers accelerate\n",
    "\n",
    "from sentence_transformers import SentenceTransformer\n",
    "from langchain.text_splitter import RecursiveCharacterTextSplitter\n",
    "import faiss, numpy as np\n",
    "\n",
    "# 2) Paste the recipe text\n",
    "doc_text = \"\"\"\n",
    "How to Make Simple Pancakes:\n",
    "\n",
    "Ingredients:\n",
    "– 1 cup all-purpose flour  \n",
    "– 2 tablespoons sugar  \n",
    "– 1 teaspoon baking powder  \n",
    "– 1 teaspoon baking soda  \n",
    "– 1 pinch of salt  \n",
    "– 1 cup buttermilk  \n",
    "– 1 egg  \n",
    "– 2 tablespoons melted butter  \n",
    "\n",
    "Instructions:\n",
    "In a bowl, whisk together the flour, sugar, baking powder, baking soda, and salt.  \n",
    "In another bowl, beat the egg with the buttermilk and melted butter until combined.  \n",
    "Pour the wet ingredients into the dry ingredients and stir until just mixed—it's okay if there are a few lumps.  \n",
    "\n",
    "Cooking:\n",
    "Heat a non-stick skillet over medium heat and lightly grease with butter.  \n",
    "Pour ¼ cup batter per pancake; cook until bubbles form on top (about 2 minutes), then flip and cook the other side until golden brown.  \n",
    "Serve warm with maple syrup, fresh fruit, or your favorite toppings.\n",
    "\"\"\"\n",
    "\n",
    "# 3) Chunk into ~200-char pieces with 50-char overlap, honoring paragraphs\n",
    "splitter = RecursiveCharacterTextSplitter(\n",
    "    separators=[\"\\n\\n\", \"\\n\", \" \", \"\"],\n",
    "    chunk_size=200,\n",
    "    chunk_overlap=50\n",
    ")\n",
    "chunks = splitter.split_text(doc_text)\n",
    "\n",
    "print(f\"Generated {len(chunks)} chunks:\")\n",
    "for i, c in enumerate(chunks):\n",
    "    print(f\"--- Chunk {i} ---\\n{c}\\n\")\n"
   ]
  },
  {
   "cell_type": "code",
   "execution_count": 7,
   "id": "e80370f3-65d4-4690-9772-df131892e872",
   "metadata": {
    "execution": {
     "iopub.execute_input": "2025-07-05T14:24:09.501988Z",
     "iopub.status.busy": "2025-07-05T14:24:09.501267Z",
     "iopub.status.idle": "2025-07-05T14:24:10.012330Z",
     "shell.execute_reply": "2025-07-05T14:24:10.011389Z",
     "shell.execute_reply.started": "2025-07-05T14:24:09.501945Z"
    }
   },
   "outputs": [
    {
     "name": "stdout",
     "output_type": "stream",
     "text": [
      "✅ FAISS index built with 8 vectors\n"
     ]
    }
   ],
   "source": [
    "# 1) Load a local embedding model\n",
    "embed_model = SentenceTransformer(\"all-MiniLM-L6-v2\")\n",
    "\n",
    "# 2) Compute embeddings and normalize\n",
    "vecs = embed_model.encode(chunks, convert_to_numpy=True).astype(\"float32\")\n",
    "vecs /= np.linalg.norm(vecs, axis=1, keepdims=True)\n",
    "\n",
    "# 3) Build an in-memory FAISS index (cosine via dot-product)\n",
    "index = faiss.IndexFlatIP(vecs.shape[1])\n",
    "index.add(vecs)\n",
    "\n",
    "print(\"✅ FAISS index built with\", index.ntotal, \"vectors\")\n"
   ]
  },
  {
   "cell_type": "code",
   "execution_count": 8,
   "id": "990a4d64-e417-4677-858d-793e9d1cea00",
   "metadata": {
    "execution": {
     "iopub.execute_input": "2025-07-05T14:24:27.678521Z",
     "iopub.status.busy": "2025-07-05T14:24:27.677788Z",
     "iopub.status.idle": "2025-07-05T14:24:30.924572Z",
     "shell.execute_reply": "2025-07-05T14:24:30.923787Z",
     "shell.execute_reply.started": "2025-07-05T14:24:27.678494Z"
    }
   },
   "outputs": [
    {
     "name": "stderr",
     "output_type": "stream",
     "text": [
      "Device set to use cpu\n",
      "Both `max_new_tokens` (=256) and `max_length`(=200) seem to have been set. `max_new_tokens` will take precedence. Please refer to the documentation for more information. (https://huggingface.co/docs/transformers/main/en/main_classes/text_generation)\n"
     ]
    },
    {
     "name": "stdout",
     "output_type": "stream",
     "text": [
      "\n",
      "🔎 Q: What dry ingredients do I need?\n"
     ]
    },
    {
     "name": "stderr",
     "output_type": "stream",
     "text": [
      "Both `max_new_tokens` (=256) and `max_length`(=200) seem to have been set. `max_new_tokens` will take precedence. Please refer to the documentation for more information. (https://huggingface.co/docs/transformers/main/en/main_classes/text_generation)\n"
     ]
    },
    {
     "name": "stdout",
     "output_type": "stream",
     "text": [
      "🟢 A: all-purpose flour – 2 tablespoons sugar – baking powder – baking soda – pinch of salt – buttermilk – egg\n",
      "\n",
      "🔎 Q: How long should I cook each pancake side?\n"
     ]
    },
    {
     "name": "stderr",
     "output_type": "stream",
     "text": [
      "Both `max_new_tokens` (=256) and `max_length`(=200) seem to have been set. `max_new_tokens` will take precedence. Please refer to the documentation for more information. (https://huggingface.co/docs/transformers/main/en/main_classes/text_generation)\n"
     ]
    },
    {
     "name": "stdout",
     "output_type": "stream",
     "text": [
      "🟢 A: 14 cup batter\n",
      "\n",
      "🔎 Q: What can I serve with the pancakes?\n",
      "🟢 A: warm with maple syrup, fresh fruit, or your favorite toppings\n"
     ]
    }
   ],
   "source": [
    "from transformers import pipeline\n",
    "\n",
    "# 1) Instruction-tuned model pipeline\n",
    "generator = pipeline(\n",
    "    \"text2text-generation\",\n",
    "    model=\"google/flan-t5-small\",\n",
    "    tokenizer=\"google/flan-t5-small\"\n",
    ")\n",
    "\n",
    "# 2) Retrieval helper\n",
    "def retrieve(question, k=2):\n",
    "    qv = embed_model.encode([question], convert_to_numpy=True).astype(\"float32\")\n",
    "    qv /= np.linalg.norm(qv)\n",
    "    D, I = index.search(qv, k)\n",
    "    return [chunks[i] for i in I[0]]\n",
    "\n",
    "# 3) Full RAG function\n",
    "def rag(question):\n",
    "    context = \"\\n\\n---\\n\\n\".join(retrieve(question))\n",
    "    prompt = (\n",
    "        \"You are a cooking assistant. Use ONLY the context to answer.\\n\\n\"\n",
    "        f\"Context:\\n{context}\\n\\nQuestion:\\n{question}\\nAnswer:\"\n",
    "    )\n",
    "    out = generator(prompt, max_length=200)[0][\"generated_text\"]\n",
    "    return out.split(\"Answer:\")[-1].strip()\n",
    "\n",
    "# 4) Test with your three questions\n",
    "for q in [\n",
    "    \"What dry ingredients do I need?\",\n",
    "    \"How long should I cook each pancake side?\",\n",
    "    \"What can I serve with the pancakes?\"\n",
    "]:\n",
    "    print(f\"\\n🔎 Q: {q}\")\n",
    "    print(\"🟢 A:\", rag(q))\n"
   ]
  },
  {
   "cell_type": "code",
   "execution_count": null,
   "id": "3f1f9bce-98a4-4c2b-8078-cfbec570b2f9",
   "metadata": {},
   "outputs": [],
   "source": []
  }
 ],
 "metadata": {
  "kernelspec": {
   "display_name": "Python 3 (ipykernel)",
   "language": "python",
   "name": "python3"
  },
  "language_info": {
   "codemirror_mode": {
    "name": "ipython",
    "version": 3
   },
   "file_extension": ".py",
   "mimetype": "text/x-python",
   "name": "python",
   "nbconvert_exporter": "python",
   "pygments_lexer": "ipython3",
   "version": "3.12.9"
  }
 },
 "nbformat": 4,
 "nbformat_minor": 5
}
