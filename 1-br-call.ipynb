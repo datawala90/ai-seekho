{
 "cells": [
  {
   "cell_type": "code",
   "execution_count": 1,
   "id": "c4d4b9e5-dbb2-44fe-a230-0c10c0ffe6a5",
   "metadata": {
    "execution": {
     "iopub.execute_input": "2025-06-30T16:51:56.683239Z",
     "iopub.status.busy": "2025-06-30T16:51:56.682726Z",
     "iopub.status.idle": "2025-06-30T16:51:56.900222Z",
     "shell.execute_reply": "2025-06-30T16:51:56.899428Z",
     "shell.execute_reply.started": "2025-06-30T16:51:56.683213Z"
    }
   },
   "outputs": [
    {
     "name": "stdout",
     "output_type": "stream",
     "text": [
      "Region: us-east-1\n",
      "Caller ARN: arn:aws:sts::622896210499:assumed-role/AmazonSageMaker-ExecutionRole-20250626T162674/SageMaker\n"
     ]
    }
   ],
   "source": [
    "import boto3\n",
    "# 1) Check region\n",
    "print(\"Region:\", boto3.session.Session().region_name)\n",
    "# 2) Check your role ARN\n",
    "arn = boto3.client(\"sts\").get_caller_identity()[\"Arn\"]\n",
    "print(\"Caller ARN:\", arn)\n"
   ]
  },
  {
   "cell_type": "code",
   "execution_count": 2,
   "id": "f90b2047-d05e-4efc-86cc-9e0f84a40bb3",
   "metadata": {
    "execution": {
     "iopub.execute_input": "2025-06-30T16:51:59.951535Z",
     "iopub.status.busy": "2025-06-30T16:51:59.950803Z",
     "iopub.status.idle": "2025-06-30T16:52:00.157935Z",
     "shell.execute_reply": "2025-06-30T16:52:00.157050Z",
     "shell.execute_reply.started": "2025-06-30T16:51:59.951478Z"
    }
   },
   "outputs": [
    {
     "name": "stdout",
     "output_type": "stream",
     "text": [
      "Found 90 models. First 10 IDs:\n",
      " • amazon.titan-tg1-large\n",
      " • amazon.titan-image-generator-v1:0\n",
      " • amazon.titan-image-generator-v1\n",
      " • amazon.titan-image-generator-v2:0\n",
      " • amazon.nova-premier-v1:0:8k\n",
      " • amazon.nova-premier-v1:0:20k\n",
      " • amazon.nova-premier-v1:0:1000k\n",
      " • amazon.nova-premier-v1:0:mm\n",
      " • amazon.nova-premier-v1:0\n",
      " • amazon.titan-text-premier-v1:0\n"
     ]
    }
   ],
   "source": [
    "import boto3, json\n",
    "\n",
    "# Control-plane client\n",
    "bedrock_cp = boto3.client(\"bedrock\", region_name=\"us-east-1\")\n",
    "\n",
    "# List models\n",
    "resp = bedrock_cp.list_foundation_models()\n",
    "models = resp.get(\"modelSummaries\") or resp.get(\"foundationModels\") or resp.get(\"models\", [])\n",
    "\n",
    "print(f\"Found {len(models)} models. First 10 IDs:\")\n",
    "for m in models[:10]:\n",
    "    print(\" •\", m.get(\"modelId\") or m.get(\"name\") or m.get(\"modelArn\"))\n"
   ]
  },
  {
   "cell_type": "code",
   "execution_count": null,
   "id": "229b28c9-95e0-4345-b7d9-ef72b38b5ad0",
   "metadata": {},
   "outputs": [],
   "source": []
  }
 ],
 "metadata": {
  "kernelspec": {
   "display_name": "Python 3 (ipykernel)",
   "language": "python",
   "name": "python3"
  },
  "language_info": {
   "codemirror_mode": {
    "name": "ipython",
    "version": 3
   },
   "file_extension": ".py",
   "mimetype": "text/x-python",
   "name": "python",
   "nbconvert_exporter": "python",
   "pygments_lexer": "ipython3",
   "version": "3.12.9"
  }
 },
 "nbformat": 4,
 "nbformat_minor": 5
}
