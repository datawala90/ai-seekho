{
 "cells": [
  {
   "cell_type": "code",
   "execution_count": null,
   "id": "c4d4b9e5-dbb2-44fe-a230-0c10c0ffe6a5",
   "metadata": {},
   "outputs": [],
   "source": [
    "import boto3\n",
    "# 1) Check region\n",
    "print(\"Region:\", boto3.session.Session().region_name)\n",
    "# 2) Check your role ARN\n",
    "arn = boto3.client(\"sts\").get_caller_identity()[\"Arn\"]\n",
    "print(\"Caller ARN:\", arn)\n"
   ]
  },
  {
   "cell_type": "code",
   "execution_count": null,
   "id": "f90b2047-d05e-4efc-86cc-9e0f84a40bb3",
   "metadata": {},
   "outputs": [],
   "source": [
    "import boto3, json\n",
    "\n",
    "# Control-plane client\n",
    "bedrock_cp = boto3.client(\"bedrock\", region_name=\"us-east-1\")\n",
    "\n",
    "# List models\n",
    "resp = bedrock_cp.list_foundation_models()\n",
    "models = resp.get(\"modelSummaries\") or resp.get(\"foundationModels\") or resp.get(\"models\", [])\n",
    "\n",
    "print(f\"Found {len(models)} models. First 10 IDs:\")\n",
    "for m in models[:10]:\n",
    "    print(\" •\", m.get(\"modelId\") or m.get(\"name\") or m.get(\"modelArn\"))\n"
   ]
  },
  {
   "cell_type": "code",
   "execution_count": null,
   "id": "229b28c9-95e0-4345-b7d9-ef72b38b5ad0",
   "metadata": {},
   "outputs": [],
   "source": []
  }
 ],
 "metadata": {
  "kernelspec": {
   "display_name": "Python 3 (ipykernel)",
   "language": "python",
   "name": "python3"
  },
  "language_info": {
   "codemirror_mode": {
    "name": "ipython",
    "version": 3
   },
   "file_extension": ".py",
   "mimetype": "text/x-python",
   "name": "python",
   "nbconvert_exporter": "python",
   "pygments_lexer": "ipython3",
   "version": "3.12.9"
  }
 },
 "nbformat": 4,
 "nbformat_minor": 5
}
